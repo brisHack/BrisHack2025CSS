{
 "cells": [
  {
   "cell_type": "code",
   "execution_count": 35,
   "id": "759b599b",
   "metadata": {},
   "outputs": [],
   "source": [
    "import matplotlib.pyplot as plt\n",
    "import numpy as np\n",
    "from sklearn.linear_model import LogisticRegression\n",
    "from sklearn.metrics import classification_report, confusion_matrix\n",
    "import pandas as pd\n",
    "from sklearn.model_selection import train_test_split\n",
    "from sklearn.datasets import make_classification\n",
    "from sklearn.metrics import accuracy_score\n",
    "from sklearn.preprocessing import MinMaxScaler\n",
    "from sklearn.preprocessing import MinMaxScaler, LabelEncoder"
   ]
  },
  {
   "cell_type": "code",
   "execution_count": 36,
   "id": "18699dd9",
   "metadata": {},
   "outputs": [],
   "source": [
    "df = pd.read_csv('Plastic based Textiles in clothing industry.csv')"
   ]
  },
  {
   "cell_type": "code",
   "execution_count": 37,
   "id": "83c2f5ab",
   "metadata": {},
   "outputs": [
    {
     "name": "stdout",
     "output_type": "stream",
     "text": [
      "<class 'pandas.core.frame.DataFrame'>\n",
      "RangeIndex: 6956 entries, 0 to 6955\n",
      "Data columns (total 9 columns):\n",
      " #   Column                    Non-Null Count  Dtype \n",
      "---  ------                    --------------  ----- \n",
      " 0   Company                   6956 non-null   object\n",
      " 1   Product_Type              6956 non-null   object\n",
      " 2   Production_Year           6956 non-null   int64 \n",
      " 3   Greenhouse_Gas_Emissions  6956 non-null   int64 \n",
      " 4   Pollutants_Emitted        6956 non-null   int64 \n",
      " 5   Water_Consumption         6956 non-null   int64 \n",
      " 6   Energy_Consumption        6956 non-null   int64 \n",
      " 7   Waste_Generation          6956 non-null   int64 \n",
      " 8   Sales_Revenue             6956 non-null   int64 \n",
      "dtypes: int64(7), object(2)\n",
      "memory usage: 489.2+ KB\n"
     ]
    }
   ],
   "source": [
    "df.info()"
   ]
  },
  {
   "cell_type": "code",
   "execution_count": 38,
   "id": "aae5b423",
   "metadata": {},
   "outputs": [
    {
     "data": {
      "text/plain": [
       "['Company',\n",
       " 'Product_Type',\n",
       " 'Production_Year',\n",
       " 'Greenhouse_Gas_Emissions',\n",
       " 'Pollutants_Emitted',\n",
       " 'Water_Consumption',\n",
       " 'Energy_Consumption',\n",
       " 'Waste_Generation',\n",
       " 'Sales_Revenue']"
      ]
     },
     "execution_count": 38,
     "metadata": {},
     "output_type": "execute_result"
    }
   ],
   "source": [
    "list(df)"
   ]
  },
  {
   "cell_type": "code",
   "execution_count": 39,
   "id": "3e571a15",
   "metadata": {},
   "outputs": [
    {
     "name": "stdout",
     "output_type": "stream",
     "text": [
      "      Company  Product_Type  Production_Year  Greenhouse_Gas_Emissions  \\\n",
      "0           4             5             0.50                  0.761905   \n",
      "1           4             3             0.25                  0.285714   \n",
      "2           4             6             0.75                  0.404762   \n",
      "3           4             0             0.00                  0.047619   \n",
      "4           4             7             1.00                  1.000000   \n",
      "...       ...           ...              ...                       ...   \n",
      "6951        0             8             0.00                  0.337619   \n",
      "6952        3             2             0.25                  0.195714   \n",
      "6953        3             4             0.25                  0.980952   \n",
      "6954        0             2             0.50                  0.261190   \n",
      "6955        3             3             0.50                  0.387619   \n",
      "\n",
      "      Pollutants_Emitted  Water_Consumption  Energy_Consumption  \\\n",
      "0                 0.6875            0.87500             0.62500   \n",
      "1                 0.3750            0.25000             0.25000   \n",
      "2                 0.5625            0.50000             0.50000   \n",
      "3                 0.0625            0.12500             0.12500   \n",
      "4                 1.0000            1.00000             1.00000   \n",
      "...                  ...                ...                 ...   \n",
      "6951              0.7500            0.88400             0.25250   \n",
      "6952              0.1250            0.31675             0.31500   \n",
      "6953              0.9375            0.08025             0.35250   \n",
      "6954              0.4375            0.03125             0.48125   \n",
      "6955              1.0000            0.75125             0.25750   \n",
      "\n",
      "      Waste_Generation  Sales_Revenue Sustainable  \n",
      "0                0.750       0.444444          No  \n",
      "1                0.250       0.166667         Yes  \n",
      "2                0.500       0.333333         Yes  \n",
      "3                0.150       0.722222         Yes  \n",
      "4                1.000       1.000000          No  \n",
      "...                ...            ...         ...  \n",
      "6951             0.210       0.573183         Yes  \n",
      "6952             0.100       0.089422         Yes  \n",
      "6953             0.135       0.387583         Yes  \n",
      "6954             0.855       0.374683         Yes  \n",
      "6955             0.930       0.737289         Yes  \n",
      "\n",
      "[6956 rows x 10 columns]\n"
     ]
    }
   ],
   "source": [
    "# Calculating median values\n",
    "median_values = {\n",
    "    \"Greenhouse_Gas_Emissions\": df[\"Greenhouse_Gas_Emissions\"].median(),\n",
    "    \"Pollutants_Emitted\": df[\"Pollutants_Emitted\"].median(),\n",
    "    \"Water_Consumption\": df[\"Water_Consumption\"].median(),\n",
    "    \"Energy_Consumption\": df[\"Energy_Consumption\"].median(),\n",
    "    \"Waste_Generation\": df[\"Waste_Generation\"].median()\n",
    "}\n",
    "\n",
    "# Function to determine sustainability\n",
    "def is_sustainable(row):\n",
    "    conditions_met = sum([\n",
    "        row[\"Greenhouse_Gas_Emissions\"] <= median_values[\"Greenhouse_Gas_Emissions\"],\n",
    "        row[\"Pollutants_Emitted\"] <= median_values[\"Pollutants_Emitted\"],\n",
    "        row[\"Water_Consumption\"] <= median_values[\"Water_Consumption\"],\n",
    "        row[\"Energy_Consumption\"] <= median_values[\"Energy_Consumption\"],\n",
    "        row[\"Waste_Generation\"] <= median_values[\"Waste_Generation\"]]\n",
    "    )\n",
    "    return \"Yes\" if conditions_met >= 2 else \"No\"\n",
    "\n",
    "# Applying the function to the dataset\n",
    "df[\"Sustainable\"] = df.apply(is_sustainable, axis=1)\n",
    "\n",
    "\n",
    "# Encoding categorical columns 'Product_Type' and 'Company' using Label Encoding\n",
    "label_encoder = LabelEncoder()\n",
    "df[\"Product_Type\"] = label_encoder.fit_transform(df[\"Product_Type\"])\n",
    "df[\"Company\"] = label_encoder.fit_transform(df[\"Company\"])\n",
    "\n",
    "# Selecting numerical columns for normalization\n",
    "numerical_cols = [\"Production_Year\", \"Greenhouse_Gas_Emissions\", \"Pollutants_Emitted\", \"Water_Consumption\", \"Energy_Consumption\", \"Waste_Generation\", \"Sales_Revenue\"]\n",
    "\n",
    "# Applying Min-Max Scaling\n",
    "scaler = MinMaxScaler()\n",
    "df[numerical_cols] = scaler.fit_transform(df[numerical_cols])\n",
    "\n",
    "# Display the processed dataset\n",
    "print(df)\n"
   ]
  },
  {
   "cell_type": "code",
   "execution_count": 40,
   "id": "29de2fe1",
   "metadata": {
    "scrolled": true
   },
   "outputs": [
    {
     "data": {
      "text/plain": [
       "['Company',\n",
       " 'Product_Type',\n",
       " 'Production_Year',\n",
       " 'Greenhouse_Gas_Emissions',\n",
       " 'Pollutants_Emitted',\n",
       " 'Water_Consumption',\n",
       " 'Energy_Consumption',\n",
       " 'Waste_Generation',\n",
       " 'Sales_Revenue',\n",
       " 'Sustainable']"
      ]
     },
     "execution_count": 40,
     "metadata": {},
     "output_type": "execute_result"
    }
   ],
   "source": [
    "list(df)"
   ]
  },
  {
   "cell_type": "code",
   "execution_count": 41,
   "id": "a8dd9a0a",
   "metadata": {},
   "outputs": [
    {
     "name": "stdout",
     "output_type": "stream",
     "text": [
      "      Company  Product_Type  Production_Year  Greenhouse_Gas_Emissions  \\\n",
      "0           4             5             0.50                  0.761905   \n",
      "1           4             3             0.25                  0.285714   \n",
      "2           4             6             0.75                  0.404762   \n",
      "3           4             0             0.00                  0.047619   \n",
      "4           4             7             1.00                  1.000000   \n",
      "...       ...           ...              ...                       ...   \n",
      "6951        0             8             0.00                  0.337619   \n",
      "6952        3             2             0.25                  0.195714   \n",
      "6953        3             4             0.25                  0.980952   \n",
      "6954        0             2             0.50                  0.261190   \n",
      "6955        3             3             0.50                  0.387619   \n",
      "\n",
      "      Pollutants_Emitted  Water_Consumption  Energy_Consumption  \\\n",
      "0                 0.6875            0.87500             0.62500   \n",
      "1                 0.3750            0.25000             0.25000   \n",
      "2                 0.5625            0.50000             0.50000   \n",
      "3                 0.0625            0.12500             0.12500   \n",
      "4                 1.0000            1.00000             1.00000   \n",
      "...                  ...                ...                 ...   \n",
      "6951              0.7500            0.88400             0.25250   \n",
      "6952              0.1250            0.31675             0.31500   \n",
      "6953              0.9375            0.08025             0.35250   \n",
      "6954              0.4375            0.03125             0.48125   \n",
      "6955              1.0000            0.75125             0.25750   \n",
      "\n",
      "      Waste_Generation  Sales_Revenue  \n",
      "0                0.750       0.444444  \n",
      "1                0.250       0.166667  \n",
      "2                0.500       0.333333  \n",
      "3                0.150       0.722222  \n",
      "4                1.000       1.000000  \n",
      "...                ...            ...  \n",
      "6951             0.210       0.573183  \n",
      "6952             0.100       0.089422  \n",
      "6953             0.135       0.387583  \n",
      "6954             0.855       0.374683  \n",
      "6955             0.930       0.737289  \n",
      "\n",
      "[6956 rows x 9 columns]\n"
     ]
    }
   ],
   "source": [
    "columns_titles = [\n",
    " 'Company',\n",
    " 'Product_Type',\n",
    " 'Production_Year',\n",
    " 'Greenhouse_Gas_Emissions',\n",
    " 'Pollutants_Emitted',\n",
    " 'Water_Consumption',\n",
    " 'Energy_Consumption',\n",
    " 'Waste_Generation',\n",
    " 'Sales_Revenue']\n",
    "x = df.reindex(columns=columns_titles)\n",
    "print(x)"
   ]
  },
  {
   "cell_type": "code",
   "execution_count": 42,
   "id": "719ffb15",
   "metadata": {},
   "outputs": [
    {
     "data": {
      "text/plain": [
       "0       0\n",
       "1       1\n",
       "2       1\n",
       "3       1\n",
       "4       0\n",
       "       ..\n",
       "6951    1\n",
       "6952    1\n",
       "6953    1\n",
       "6954    1\n",
       "6955    1\n",
       "Name: Sustainable, Length: 6956, dtype: int64"
      ]
     },
     "execution_count": 42,
     "metadata": {},
     "output_type": "execute_result"
    }
   ],
   "source": [
    "df['Sustainable'] = df['Sustainable'].replace({'Yes': 1, 'No': 0})\n",
    "y = df['Sustainable']\n",
    "y"
   ]
  },
  {
   "cell_type": "code",
   "execution_count": 43,
   "id": "502993cf",
   "metadata": {},
   "outputs": [],
   "source": [
    "x_train, x_test, y_train, y_test = train_test_split(x, y, test_size=0.2, random_state=42)"
   ]
  },
  {
   "cell_type": "code",
   "execution_count": 44,
   "id": "a69142be",
   "metadata": {},
   "outputs": [
    {
     "data": {
      "text/plain": [
       "LogisticRegression(random_state=0, solver='liblinear')"
      ]
     },
     "execution_count": 44,
     "metadata": {},
     "output_type": "execute_result"
    }
   ],
   "source": [
    "model = LogisticRegression(solver='liblinear', random_state=0)\n",
    "model.fit(x_train, y_train)"
   ]
  },
  {
   "cell_type": "code",
   "execution_count": 45,
   "id": "b89b9280",
   "metadata": {},
   "outputs": [
    {
     "data": {
      "text/plain": [
       "array([[0.00523807, 0.99476193],\n",
       "       [0.07212625, 0.92787375],\n",
       "       [0.01330218, 0.98669782],\n",
       "       ...,\n",
       "       [0.01671546, 0.98328454],\n",
       "       [0.82009362, 0.17990638],\n",
       "       [0.01813601, 0.98186399]])"
      ]
     },
     "execution_count": 45,
     "metadata": {},
     "output_type": "execute_result"
    }
   ],
   "source": [
    "y_pred = model.predict_proba(x_test)\n",
    "y_pred"
   ]
  },
  {
   "cell_type": "code",
   "execution_count": 46,
   "id": "3b08edf9",
   "metadata": {},
   "outputs": [
    {
     "data": {
      "text/plain": [
       "array([1, 1, 1, ..., 1, 0, 1], dtype=int64)"
      ]
     },
     "execution_count": 46,
     "metadata": {},
     "output_type": "execute_result"
    }
   ],
   "source": [
    "y_pred1 = model.predict(x_test)\n",
    "y_pred1"
   ]
  },
  {
   "cell_type": "code",
   "execution_count": 47,
   "id": "5ba506fb",
   "metadata": {},
   "outputs": [
    {
     "name": "stdout",
     "output_type": "stream",
     "text": [
      "Accuracy: 0.8994252873563219\n"
     ]
    }
   ],
   "source": [
    "accuracy = accuracy_score(y_test, y_pred1)\n",
    "print(\"Accuracy:\", accuracy)"
   ]
  },
  {
   "cell_type": "code",
   "execution_count": null,
   "id": "c9dc0c5a",
   "metadata": {},
   "outputs": [],
   "source": []
  }
 ],
 "metadata": {
  "kernelspec": {
   "display_name": "Python 3 (ipykernel)",
   "language": "python",
   "name": "python3"
  },
  "language_info": {
   "codemirror_mode": {
    "name": "ipython",
    "version": 3
   },
   "file_extension": ".py",
   "mimetype": "text/x-python",
   "name": "python",
   "nbconvert_exporter": "python",
   "pygments_lexer": "ipython3",
   "version": "3.9.7"
  }
 },
 "nbformat": 4,
 "nbformat_minor": 5
}
